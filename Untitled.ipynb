{
 "cells": [
  {
   "cell_type": "code",
   "execution_count": 11,
   "metadata": {},
   "outputs": [],
   "source": [
    "import sqlite3"
   ]
  },
  {
   "cell_type": "code",
   "execution_count": 17,
   "metadata": {},
   "outputs": [
    {
     "name": "stdout",
     "output_type": "stream",
     "text": [
      "enter your id : 2\n",
      "Enter Your Name : gagan\n",
      "Enter Your Registration Number : 145874\n"
     ]
    }
   ],
   "source": [
    "def insertOrUpdate(Id,Name,Regno):\n",
    "    conn = sqlite3.connect(\"Container.db\")\n",
    "    cmd = \"SELECT * FROM Identity WHERE ID=\"+str(Id)\n",
    "    cursor = conn.execute(cmd)\n",
    "    isRecordExist = 0\n",
    "    for row in cursor:\n",
    "        isRecordExist=1 \n",
    "    if(isRecordExist==1):\n",
    "        cmd = \"UPDATE Identity SET Name=' \"+str(Name)+\" ' WHERE ID=\"+str(Id)\n",
    "        cmd = \"UPDATE Identity SET Regno=' \"+str(Regno)+\" ' WHERE ID=\"+str(Id)\n",
    "    else:\n",
    "        cmd =\"INSERT INTO Identity(ID,Name,Regno) Values(\"+str(Id)+\",' \"+str(Name)+\" ',' \"+str(Regno)+\" ')\"  \n",
    "    conn.execute(cmd)\n",
    "    conn.commit()\n",
    "    conn.close()\n",
    "\n",
    "Id = input(\"enter your id : \")\n",
    "name = input(\"Enter Your Name : \")\n",
    "reg =input(\"Enter Your Registration Number : \")\n",
    "\n",
    "insertOrUpdate(Id, name,reg)"
   ]
  },
  {
   "cell_type": "code",
   "execution_count": null,
   "metadata": {},
   "outputs": [],
   "source": []
  },
  {
   "cell_type": "code",
   "execution_count": null,
   "metadata": {},
   "outputs": [],
   "source": []
  },
  {
   "cell_type": "code",
   "execution_count": null,
   "metadata": {},
   "outputs": [],
   "source": []
  },
  {
   "cell_type": "code",
   "execution_count": null,
   "metadata": {},
   "outputs": [],
   "source": []
  },
  {
   "cell_type": "code",
   "execution_count": null,
   "metadata": {},
   "outputs": [],
   "source": []
  },
  {
   "cell_type": "code",
   "execution_count": null,
   "metadata": {},
   "outputs": [],
   "source": []
  }
 ],
 "metadata": {
  "kernelspec": {
   "display_name": "Python 3",
   "language": "python",
   "name": "python3"
  },
  "language_info": {
   "codemirror_mode": {
    "name": "ipython",
    "version": 3
   },
   "file_extension": ".py",
   "mimetype": "text/x-python",
   "name": "python",
   "nbconvert_exporter": "python",
   "pygments_lexer": "ipython3",
   "version": "3.6.8"
  }
 },
 "nbformat": 4,
 "nbformat_minor": 2
}
